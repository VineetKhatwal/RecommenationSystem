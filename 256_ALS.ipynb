{
 "cells": [
  {
   "cell_type": "code",
   "execution_count": 1,
   "metadata": {},
   "outputs": [],
   "source": [
    "from pyspark.ml.evaluation import RegressionEvaluator\n",
    "from pyspark.ml.recommendation import ALS\n",
    "from pyspark.ml.tuning import CrossValidator, ParamGridBuilder\n",
    "from pyspark.ml import Pipeline\n",
    "from pyspark.sql import SparkSession\n",
    "from pyspark.sql import Row\n",
    "from pyspark.ml.recommendation import ALS\n",
    "from pyspark.ml.tuning import ParamGridBuilder, TrainValidationSplit\n",
    "from pyspark.ml.evaluation import RegressionEvaluator\n",
    "from pyspark.sql.types import DoubleType\n",
    "from pyspark.sql.types import IntegerType\n",
    "from pyspark.sql import Row\n",
    "from pyspark.sql import functions as F\n",
    "from pyspark.sql import DataFrameNaFunctions as DFna\n",
    "from pyspark.sql.functions import udf, col, when\n",
    "import matplotlib.pyplot as plt\n",
    "from pyspark import SQLContext\n",
    "from pyspark.sql.functions import *\n",
    "import pyspark as ps\n",
    "from pyspark.sql.types import *\n",
    "import os, sys, requests, json\n",
    "import numpy as np\n",
    "import math\n",
    "import time\n",
    "import pandas as pd\n",
    "from surprise import SVD, NMF, model_selection, accuracy\n",
    "import os\n",
    "os.environ[\"PYSPARK_PYTHON\"]=\"/usr/local/bin/python3\"\n",
    "# import String indexer to convert string values to numeric values\n",
    "from pyspark.ml.feature import StringIndexer,IndexToString\n",
    "#import ALS recommender function from pyspark ml library\n",
    "from pyspark.ml.recommendation import ALS\n",
    "#importing Regression Evaluator to measure RMSE\n",
    "from pyspark.ml.evaluation import RegressionEvaluator\n"
   ]
  },
  {
   "cell_type": "code",
   "execution_count": 2,
   "metadata": {},
   "outputs": [
    {
     "data": {
      "text/html": [
       "<div>\n",
       "<style scoped>\n",
       "    .dataframe tbody tr th:only-of-type {\n",
       "        vertical-align: middle;\n",
       "    }\n",
       "\n",
       "    .dataframe tbody tr th {\n",
       "        vertical-align: top;\n",
       "    }\n",
       "\n",
       "    .dataframe thead th {\n",
       "        text-align: right;\n",
       "    }\n",
       "</style>\n",
       "<table border=\"1\" class=\"dataframe\">\n",
       "  <thead>\n",
       "    <tr style=\"text-align: right;\">\n",
       "      <th></th>\n",
       "      <th>marketplace</th>\n",
       "      <th>customer_id</th>\n",
       "      <th>review_id</th>\n",
       "      <th>product_id</th>\n",
       "      <th>product_parent</th>\n",
       "      <th>product_title</th>\n",
       "      <th>product_category</th>\n",
       "      <th>star_rating</th>\n",
       "      <th>helpful_votes</th>\n",
       "      <th>total_votes</th>\n",
       "      <th>vine</th>\n",
       "      <th>verified_purchase</th>\n",
       "      <th>review_headline</th>\n",
       "      <th>review_body</th>\n",
       "      <th>review_date</th>\n",
       "    </tr>\n",
       "  </thead>\n",
       "  <tbody>\n",
       "    <tr>\n",
       "      <th>0</th>\n",
       "      <td>US</td>\n",
       "      <td>12076615</td>\n",
       "      <td>RQ58W7SMO911M</td>\n",
       "      <td>0385730586</td>\n",
       "      <td>122662979</td>\n",
       "      <td>Sisterhood of the Traveling Pants (Book 1)</td>\n",
       "      <td>Books</td>\n",
       "      <td>4</td>\n",
       "      <td>2</td>\n",
       "      <td>3</td>\n",
       "      <td>N</td>\n",
       "      <td>N</td>\n",
       "      <td>this book was a great learning novel!</td>\n",
       "      <td>this boook was a great one that you could lear...</td>\n",
       "      <td>2005-10-14</td>\n",
       "    </tr>\n",
       "    <tr>\n",
       "      <th>1</th>\n",
       "      <td>US</td>\n",
       "      <td>12703090</td>\n",
       "      <td>RF6IUKMGL8SF</td>\n",
       "      <td>0811828964</td>\n",
       "      <td>56191234</td>\n",
       "      <td>The Bad Girl's Guide to Getting What You Want</td>\n",
       "      <td>Books</td>\n",
       "      <td>3</td>\n",
       "      <td>5</td>\n",
       "      <td>5</td>\n",
       "      <td>N</td>\n",
       "      <td>N</td>\n",
       "      <td>Fun Fluff</td>\n",
       "      <td>If you are looking for something to stimulate ...</td>\n",
       "      <td>2005-10-14</td>\n",
       "    </tr>\n",
       "    <tr>\n",
       "      <th>2</th>\n",
       "      <td>US</td>\n",
       "      <td>12257412</td>\n",
       "      <td>R1DOSHH6AI622S</td>\n",
       "      <td>1844161560</td>\n",
       "      <td>253182049</td>\n",
       "      <td>Eisenhorn (A Warhammer 40,000 Omnibus)</td>\n",
       "      <td>Books</td>\n",
       "      <td>4</td>\n",
       "      <td>1</td>\n",
       "      <td>22</td>\n",
       "      <td>N</td>\n",
       "      <td>N</td>\n",
       "      <td>this isn't a review</td>\n",
       "      <td>never read it-a young relative idicated he lik...</td>\n",
       "      <td>2005-10-14</td>\n",
       "    </tr>\n",
       "    <tr>\n",
       "      <th>3</th>\n",
       "      <td>US</td>\n",
       "      <td>50732546</td>\n",
       "      <td>RATOTLA3OF70O</td>\n",
       "      <td>0373836635</td>\n",
       "      <td>348672532</td>\n",
       "      <td>Colby Conspiracy (Colby Agency)</td>\n",
       "      <td>Books</td>\n",
       "      <td>5</td>\n",
       "      <td>2</td>\n",
       "      <td>2</td>\n",
       "      <td>N</td>\n",
       "      <td>N</td>\n",
       "      <td>fine author on her A-game</td>\n",
       "      <td>Though she is honored to be Chicago Woman of t...</td>\n",
       "      <td>2005-10-14</td>\n",
       "    </tr>\n",
       "    <tr>\n",
       "      <th>4</th>\n",
       "      <td>US</td>\n",
       "      <td>51964897</td>\n",
       "      <td>R1TNWRKIVHVYOV</td>\n",
       "      <td>0262181533</td>\n",
       "      <td>598678717</td>\n",
       "      <td>The Psychology of Proof: Deductive Reasoning i...</td>\n",
       "      <td>Books</td>\n",
       "      <td>4</td>\n",
       "      <td>0</td>\n",
       "      <td>2</td>\n",
       "      <td>N</td>\n",
       "      <td>N</td>\n",
       "      <td>Execellent cursor examination</td>\n",
       "      <td>Review based on a cursory examination by Unive...</td>\n",
       "      <td>2005-10-14</td>\n",
       "    </tr>\n",
       "  </tbody>\n",
       "</table>\n",
       "</div>"
      ],
      "text/plain": [
       "  marketplace  customer_id       review_id  product_id  product_parent  \\\n",
       "0          US     12076615   RQ58W7SMO911M  0385730586       122662979   \n",
       "1          US     12703090    RF6IUKMGL8SF  0811828964        56191234   \n",
       "2          US     12257412  R1DOSHH6AI622S  1844161560       253182049   \n",
       "3          US     50732546   RATOTLA3OF70O  0373836635       348672532   \n",
       "4          US     51964897  R1TNWRKIVHVYOV  0262181533       598678717   \n",
       "\n",
       "                                       product_title product_category  \\\n",
       "0         Sisterhood of the Traveling Pants (Book 1)            Books   \n",
       "1      The Bad Girl's Guide to Getting What You Want            Books   \n",
       "2             Eisenhorn (A Warhammer 40,000 Omnibus)            Books   \n",
       "3                    Colby Conspiracy (Colby Agency)            Books   \n",
       "4  The Psychology of Proof: Deductive Reasoning i...            Books   \n",
       "\n",
       "   star_rating  helpful_votes  total_votes vine verified_purchase  \\\n",
       "0            4              2            3    N                 N   \n",
       "1            3              5            5    N                 N   \n",
       "2            4              1           22    N                 N   \n",
       "3            5              2            2    N                 N   \n",
       "4            4              0            2    N                 N   \n",
       "\n",
       "                         review_headline  \\\n",
       "0  this book was a great learning novel!   \n",
       "1                              Fun Fluff   \n",
       "2                    this isn't a review   \n",
       "3              fine author on her A-game   \n",
       "4          Execellent cursor examination   \n",
       "\n",
       "                                         review_body review_date  \n",
       "0  this boook was a great one that you could lear...  2005-10-14  \n",
       "1  If you are looking for something to stimulate ...  2005-10-14  \n",
       "2  never read it-a young relative idicated he lik...  2005-10-14  \n",
       "3  Though she is honored to be Chicago Woman of t...  2005-10-14  \n",
       "4  Review based on a cursory examination by Unive...  2005-10-14  "
      ]
     },
     "execution_count": 2,
     "metadata": {},
     "output_type": "execute_result"
    }
   ],
   "source": [
    "temp_df = pd.read_csv('File_Amazon.tsv', sep='\\t')\n",
    "temp_df.head()"
   ]
  },
  {
   "cell_type": "code",
   "execution_count": 3,
   "metadata": {},
   "outputs": [
    {
     "data": {
      "text/html": [
       "<div>\n",
       "<style scoped>\n",
       "    .dataframe tbody tr th:only-of-type {\n",
       "        vertical-align: middle;\n",
       "    }\n",
       "\n",
       "    .dataframe tbody tr th {\n",
       "        vertical-align: top;\n",
       "    }\n",
       "\n",
       "    .dataframe thead th {\n",
       "        text-align: right;\n",
       "    }\n",
       "</style>\n",
       "<table border=\"1\" class=\"dataframe\">\n",
       "  <thead>\n",
       "    <tr style=\"text-align: right;\">\n",
       "      <th></th>\n",
       "      <th>customer_id</th>\n",
       "      <th>product_title</th>\n",
       "      <th>star_rating</th>\n",
       "    </tr>\n",
       "  </thead>\n",
       "  <tbody>\n",
       "    <tr>\n",
       "      <th>0</th>\n",
       "      <td>12076615</td>\n",
       "      <td>Sisterhood of the Traveling Pants (Book 1)</td>\n",
       "      <td>4</td>\n",
       "    </tr>\n",
       "    <tr>\n",
       "      <th>1</th>\n",
       "      <td>12703090</td>\n",
       "      <td>The Bad Girl's Guide to Getting What You Want</td>\n",
       "      <td>3</td>\n",
       "    </tr>\n",
       "    <tr>\n",
       "      <th>2</th>\n",
       "      <td>12257412</td>\n",
       "      <td>Eisenhorn (A Warhammer 40,000 Omnibus)</td>\n",
       "      <td>4</td>\n",
       "    </tr>\n",
       "    <tr>\n",
       "      <th>3</th>\n",
       "      <td>50732546</td>\n",
       "      <td>Colby Conspiracy (Colby Agency)</td>\n",
       "      <td>5</td>\n",
       "    </tr>\n",
       "    <tr>\n",
       "      <th>4</th>\n",
       "      <td>51964897</td>\n",
       "      <td>The Psychology of Proof: Deductive Reasoning i...</td>\n",
       "      <td>4</td>\n",
       "    </tr>\n",
       "    <tr>\n",
       "      <th>...</th>\n",
       "      <td>...</td>\n",
       "      <td>...</td>\n",
       "      <td>...</td>\n",
       "    </tr>\n",
       "    <tr>\n",
       "      <th>99985</th>\n",
       "      <td>17077611</td>\n",
       "      <td>Theoretical Foundations of Corporate Finance.</td>\n",
       "      <td>4</td>\n",
       "    </tr>\n",
       "    <tr>\n",
       "      <th>99986</th>\n",
       "      <td>52433809</td>\n",
       "      <td>Data Structures and Program Design In C (2nd E...</td>\n",
       "      <td>4</td>\n",
       "    </tr>\n",
       "    <tr>\n",
       "      <th>99987</th>\n",
       "      <td>12579502</td>\n",
       "      <td>Sang Spell</td>\n",
       "      <td>1</td>\n",
       "    </tr>\n",
       "    <tr>\n",
       "      <th>99988</th>\n",
       "      <td>21369002</td>\n",
       "      <td>Reef Fish Identification: Florida, Caribbean, ...</td>\n",
       "      <td>5</td>\n",
       "    </tr>\n",
       "    <tr>\n",
       "      <th>99989</th>\n",
       "      <td>52254603</td>\n",
       "      <td>A Dedicated Man (Inspector Banks Mysteries)</td>\n",
       "      <td>2</td>\n",
       "    </tr>\n",
       "  </tbody>\n",
       "</table>\n",
       "<p>99990 rows × 3 columns</p>\n",
       "</div>"
      ],
      "text/plain": [
       "       customer_id                                      product_title  \\\n",
       "0         12076615         Sisterhood of the Traveling Pants (Book 1)   \n",
       "1         12703090      The Bad Girl's Guide to Getting What You Want   \n",
       "2         12257412             Eisenhorn (A Warhammer 40,000 Omnibus)   \n",
       "3         50732546                    Colby Conspiracy (Colby Agency)   \n",
       "4         51964897  The Psychology of Proof: Deductive Reasoning i...   \n",
       "...            ...                                                ...   \n",
       "99985     17077611      Theoretical Foundations of Corporate Finance.   \n",
       "99986     52433809  Data Structures and Program Design In C (2nd E...   \n",
       "99987     12579502                                         Sang Spell   \n",
       "99988     21369002  Reef Fish Identification: Florida, Caribbean, ...   \n",
       "99989     52254603        A Dedicated Man (Inspector Banks Mysteries)   \n",
       "\n",
       "       star_rating  \n",
       "0                4  \n",
       "1                3  \n",
       "2                4  \n",
       "3                5  \n",
       "4                4  \n",
       "...            ...  \n",
       "99985            4  \n",
       "99986            4  \n",
       "99987            1  \n",
       "99988            5  \n",
       "99989            2  \n",
       "\n",
       "[99990 rows x 3 columns]"
      ]
     },
     "execution_count": 3,
     "metadata": {},
     "output_type": "execute_result"
    }
   ],
   "source": [
    "temp_df = temp_df[['customer_id','product_title','star_rating']]\n",
    "temp_df"
   ]
  },
  {
   "cell_type": "code",
   "execution_count": 4,
   "metadata": {},
   "outputs": [],
   "source": [
    "import pandas as pd\n",
    "import numpy as np\n",
    "import seaborn as sns\n",
    "import operator\n",
    "import math\n",
    "import csv\n",
    "import matplotlib\n",
    "import matplotlib.pyplot as plt\n",
    "from scipy.stats import skew\n",
    "from scipy import stats\n",
    "from scipy.stats.stats import pearsonr\n",
    "from scipy.stats import norm\n",
    "from sklearn import linear_model\n",
    "from sklearn.preprocessing import LabelEncoder\n",
    "from sklearn.ensemble import RandomForestRegressor\n",
    "from sklearn.ensemble import GradientBoostingRegressor\n",
    "from sklearn.linear_model import ElasticNet, LinearRegression\n",
    "%matplotlib inline\n"
   ]
  },
  {
   "cell_type": "code",
   "execution_count": 5,
   "metadata": {},
   "outputs": [
    {
     "ename": "TypeError",
     "evalue": "ufunc 'isnan' not supported for the input types, and the inputs could not be safely coerced to any supported types according to the casting rule ''safe''",
     "output_type": "error",
     "traceback": [
      "\u001b[0;31m---------------------------------------------------------------------------\u001b[0m",
      "\u001b[0;31mTypeError\u001b[0m                                 Traceback (most recent call last)",
      "\u001b[0;32m<ipython-input-5-faf49f7f37e5>\u001b[0m in \u001b[0;36m<module>\u001b[0;34m\u001b[0m\n\u001b[1;32m      1\u001b[0m \u001b[0mf\u001b[0m\u001b[0;34m,\u001b[0m \u001b[0max\u001b[0m \u001b[0;34m=\u001b[0m \u001b[0mplt\u001b[0m\u001b[0;34m.\u001b[0m\u001b[0msubplots\u001b[0m\u001b[0;34m(\u001b[0m\u001b[0mfigsize\u001b[0m\u001b[0;34m=\u001b[0m\u001b[0;34m(\u001b[0m\u001b[0;36m15\u001b[0m\u001b[0;34m,\u001b[0m \u001b[0;36m15\u001b[0m\u001b[0;34m)\u001b[0m\u001b[0;34m)\u001b[0m\u001b[0;34m\u001b[0m\u001b[0;34m\u001b[0m\u001b[0m\n\u001b[0;32m----> 2\u001b[0;31m \u001b[0msns\u001b[0m\u001b[0;34m.\u001b[0m\u001b[0mheatmap\u001b[0m\u001b[0;34m(\u001b[0m\u001b[0mtemp_df\u001b[0m\u001b[0;34m,\u001b[0m \u001b[0mvmax\u001b[0m\u001b[0;34m=\u001b[0m\u001b[0;36m.7\u001b[0m\u001b[0;34m,\u001b[0m \u001b[0msquare\u001b[0m\u001b[0;34m=\u001b[0m\u001b[0;32mTrue\u001b[0m\u001b[0;34m)\u001b[0m\u001b[0;34m;\u001b[0m\u001b[0;34m\u001b[0m\u001b[0;34m\u001b[0m\u001b[0m\n\u001b[0m\u001b[1;32m      3\u001b[0m \u001b[0max\u001b[0m\u001b[0;34m.\u001b[0m\u001b[0mset_title\u001b[0m\u001b[0;34m(\u001b[0m\u001b[0;34m'Heatmap showing the Correlation between variables'\u001b[0m\u001b[0;34m)\u001b[0m\u001b[0;34m\u001b[0m\u001b[0;34m\u001b[0m\u001b[0m\n",
      "\u001b[0;32m/Library/Frameworks/Python.framework/Versions/3.7/lib/python3.7/site-packages/seaborn/matrix.py\u001b[0m in \u001b[0;36mheatmap\u001b[0;34m(data, vmin, vmax, cmap, center, robust, annot, fmt, annot_kws, linewidths, linecolor, cbar, cbar_kws, cbar_ax, square, xticklabels, yticklabels, mask, ax, **kwargs)\u001b[0m\n\u001b[1;32m    515\u001b[0m     plotter = _HeatMapper(data, vmin, vmax, cmap, center, robust, annot, fmt,\n\u001b[1;32m    516\u001b[0m                           \u001b[0mannot_kws\u001b[0m\u001b[0;34m,\u001b[0m \u001b[0mcbar\u001b[0m\u001b[0;34m,\u001b[0m \u001b[0mcbar_kws\u001b[0m\u001b[0;34m,\u001b[0m \u001b[0mxticklabels\u001b[0m\u001b[0;34m,\u001b[0m\u001b[0;34m\u001b[0m\u001b[0;34m\u001b[0m\u001b[0m\n\u001b[0;32m--> 517\u001b[0;31m                           yticklabels, mask)\n\u001b[0m\u001b[1;32m    518\u001b[0m \u001b[0;34m\u001b[0m\u001b[0m\n\u001b[1;32m    519\u001b[0m     \u001b[0;31m# Add the pcolormesh kwargs here\u001b[0m\u001b[0;34m\u001b[0m\u001b[0;34m\u001b[0m\u001b[0;34m\u001b[0m\u001b[0m\n",
      "\u001b[0;32m/Library/Frameworks/Python.framework/Versions/3.7/lib/python3.7/site-packages/seaborn/matrix.py\u001b[0m in \u001b[0;36m__init__\u001b[0;34m(self, data, vmin, vmax, cmap, center, robust, annot, fmt, annot_kws, cbar, cbar_kws, xticklabels, yticklabels, mask)\u001b[0m\n\u001b[1;32m    165\u001b[0m         \u001b[0;31m# Determine good default values for the colormapping\u001b[0m\u001b[0;34m\u001b[0m\u001b[0;34m\u001b[0m\u001b[0;34m\u001b[0m\u001b[0m\n\u001b[1;32m    166\u001b[0m         self._determine_cmap_params(plot_data, vmin, vmax,\n\u001b[0;32m--> 167\u001b[0;31m                                     cmap, center, robust)\n\u001b[0m\u001b[1;32m    168\u001b[0m \u001b[0;34m\u001b[0m\u001b[0m\n\u001b[1;32m    169\u001b[0m         \u001b[0;31m# Sort out the annotations\u001b[0m\u001b[0;34m\u001b[0m\u001b[0;34m\u001b[0m\u001b[0;34m\u001b[0m\u001b[0m\n",
      "\u001b[0;32m/Library/Frameworks/Python.framework/Versions/3.7/lib/python3.7/site-packages/seaborn/matrix.py\u001b[0m in \u001b[0;36m_determine_cmap_params\u001b[0;34m(self, plot_data, vmin, vmax, cmap, center, robust)\u001b[0m\n\u001b[1;32m    202\u001b[0m                                cmap, center, robust):\n\u001b[1;32m    203\u001b[0m         \u001b[0;34m\"\"\"Use some heuristics to set good defaults for colorbar and range.\"\"\"\u001b[0m\u001b[0;34m\u001b[0m\u001b[0;34m\u001b[0m\u001b[0m\n\u001b[0;32m--> 204\u001b[0;31m         \u001b[0mcalc_data\u001b[0m \u001b[0;34m=\u001b[0m \u001b[0mplot_data\u001b[0m\u001b[0;34m.\u001b[0m\u001b[0mdata\u001b[0m\u001b[0;34m[\u001b[0m\u001b[0;34m~\u001b[0m\u001b[0mnp\u001b[0m\u001b[0;34m.\u001b[0m\u001b[0misnan\u001b[0m\u001b[0;34m(\u001b[0m\u001b[0mplot_data\u001b[0m\u001b[0;34m.\u001b[0m\u001b[0mdata\u001b[0m\u001b[0;34m)\u001b[0m\u001b[0;34m]\u001b[0m\u001b[0;34m\u001b[0m\u001b[0;34m\u001b[0m\u001b[0m\n\u001b[0m\u001b[1;32m    205\u001b[0m         \u001b[0;32mif\u001b[0m \u001b[0mvmin\u001b[0m \u001b[0;32mis\u001b[0m \u001b[0;32mNone\u001b[0m\u001b[0;34m:\u001b[0m\u001b[0;34m\u001b[0m\u001b[0;34m\u001b[0m\u001b[0m\n\u001b[1;32m    206\u001b[0m             \u001b[0mvmin\u001b[0m \u001b[0;34m=\u001b[0m \u001b[0mnp\u001b[0m\u001b[0;34m.\u001b[0m\u001b[0mpercentile\u001b[0m\u001b[0;34m(\u001b[0m\u001b[0mcalc_data\u001b[0m\u001b[0;34m,\u001b[0m \u001b[0;36m2\u001b[0m\u001b[0;34m)\u001b[0m \u001b[0;32mif\u001b[0m \u001b[0mrobust\u001b[0m \u001b[0;32melse\u001b[0m \u001b[0mcalc_data\u001b[0m\u001b[0;34m.\u001b[0m\u001b[0mmin\u001b[0m\u001b[0;34m(\u001b[0m\u001b[0;34m)\u001b[0m\u001b[0;34m\u001b[0m\u001b[0;34m\u001b[0m\u001b[0m\n",
      "\u001b[0;31mTypeError\u001b[0m: ufunc 'isnan' not supported for the input types, and the inputs could not be safely coerced to any supported types according to the casting rule ''safe''"
     ]
    },
    {
     "data": {
      "image/png": "[encoded data removed]",
      "text/plain": [
       "<Figure size 1080x1080 with 1 Axes>"
      ]
     },
     "metadata": {
      "needs_background": "light"
     },
     "output_type": "display_data"
    }
   ],
   "source": [
    "f, ax = plt.subplots(figsize=(15, 15))\n",
    "sns.heatmap(temp_df, vmax=.7, square=True);\n",
    "ax.set_title('Heatmap showing the Correlation between variables')"
   ]
  },
  {
   "cell_type": "code",
   "execution_count": null,
   "metadata": {},
   "outputs": [],
   "source": [
    "#temp_df = temp_df[temp_df.product_id.apply(lambda x: x.isnumeric())]\n",
    "#temp_df "
   ]
  },
  {
   "cell_type": "code",
   "execution_count": 6,
   "metadata": {},
   "outputs": [],
   "source": [
    "mySchema = StructType([ StructField(\"customer_id\", IntegerType(), True)\\\n",
    "                       ,StructField(\"product_title\", StringType(), True)\\\n",
    "                       ,StructField(\"star_rating\", IntegerType(), True)])"
   ]
  },
  {
   "cell_type": "code",
   "execution_count": 7,
   "metadata": {},
   "outputs": [],
   "source": [
    "spark = ps.sql.SparkSession.builder \\\n",
    "            .master(\"local[4]\") \\\n",
    "            .appName(\"building recommender\") \\\n",
    "            .getOrCreate() # create a spark session\n",
    "            \n",
    "sc = spark.sparkContext # create a spark context"
   ]
  },
  {
   "cell_type": "code",
   "execution_count": 8,
   "metadata": {},
   "outputs": [],
   "source": [
    "sqlContext = SQLContext(sc)"
   ]
  },
  {
   "cell_type": "code",
   "execution_count": 9,
   "metadata": {},
   "outputs": [],
   "source": [
    "amazon_df = spark.createDataFrame(temp_df,schema=mySchema)"
   ]
  },
  {
   "cell_type": "code",
   "execution_count": 10,
   "metadata": {},
   "outputs": [
    {
     "name": "stdout",
     "output_type": "stream",
     "text": [
      "line count: 99990\n"
     ]
    }
   ],
   "source": [
    "print(\"line count: {}\".format(amazon_df.count()))"
   ]
  },
  {
   "cell_type": "code",
   "execution_count": 11,
   "metadata": {},
   "outputs": [
    {
     "name": "stdout",
     "output_type": "stream",
     "text": [
      "+-----------+--------------------+-----------+\n",
      "|customer_id|       product_title|star_rating|\n",
      "+-----------+--------------------+-----------+\n",
      "|   12076615|Sisterhood of the...|          4|\n",
      "|   12703090|The Bad Girl's Gu...|          3|\n",
      "|   12257412|Eisenhorn (A Warh...|          4|\n",
      "|   50732546|Colby Conspiracy ...|          5|\n",
      "|   51964897|The Psychology of...|          4|\n",
      "+-----------+--------------------+-----------+\n",
      "only showing top 5 rows\n",
      "\n"
     ]
    }
   ],
   "source": [
    "amazon_df.show(5)"
   ]
  },
  {
   "cell_type": "code",
   "execution_count": 12,
   "metadata": {},
   "outputs": [
    {
     "name": "stdout",
     "output_type": "stream",
     "text": [
      "dataset data size:  99990  rows\n"
     ]
    }
   ],
   "source": [
    "print('dataset data size: ', amazon_df.count(),' rows') "
   ]
  },
  {
   "cell_type": "code",
   "execution_count": 13,
   "metadata": {},
   "outputs": [
    {
     "name": "stdout",
     "output_type": "stream",
     "text": [
      "+-----------+-------------+-----------+\n",
      "|customer_id|product_title|star_rating|\n",
      "+-----------+-------------+-----------+\n",
      "+-----------+-------------+-----------+\n",
      "\n"
     ]
    }
   ],
   "source": [
    "null_prod = amazon_df.where(col(\"customer_id\").isNull())\n",
    "null_prod.show(5)"
   ]
  },
  {
   "cell_type": "code",
   "execution_count": 14,
   "metadata": {},
   "outputs": [
    {
     "name": "stdout",
     "output_type": "stream",
     "text": [
      "+-----------+-------------+-----------+\n",
      "|customer_id|product_title|star_rating|\n",
      "+-----------+-------------+-----------+\n",
      "+-----------+-------------+-----------+\n",
      "\n"
     ]
    }
   ],
   "source": [
    "null_cust = amazon_df.where(col(\"product_title\").isNull())\n",
    "null_cust.show(5)"
   ]
  },
  {
   "cell_type": "code",
   "execution_count": 15,
   "metadata": {},
   "outputs": [
    {
     "name": "stdout",
     "output_type": "stream",
     "text": [
      "+-----------+-------------+-----------+\n",
      "|customer_id|product_title|star_rating|\n",
      "+-----------+-------------+-----------+\n",
      "+-----------+-------------+-----------+\n",
      "\n"
     ]
    }
   ],
   "source": [
    "null_cust = amazon_df.where(col(\"star_rating\").isNull())\n",
    "null_cust.show(5)"
   ]
  },
  {
   "cell_type": "code",
   "execution_count": 16,
   "metadata": {},
   "outputs": [
    {
     "name": "stdout",
     "output_type": "stream",
     "text": [
      "+-----------+-----+\n",
      "|customer_id|count|\n",
      "+-----------+-----+\n",
      "|50122160   |712  |\n",
      "|12598621   |371  |\n",
      "|50732546   |355  |\n",
      "|39569598   |252  |\n",
      "|50776149   |231  |\n",
      "|35985708   |201  |\n",
      "|49273674   |171  |\n",
      "|14720400   |155  |\n",
      "|24821538   |149  |\n",
      "|38491967   |138  |\n",
      "+-----------+-----+\n",
      "only showing top 10 rows\n",
      "\n"
     ]
    }
   ],
   "source": [
    "#The users who have have rated the least number of books\n",
    "amazon_df.groupBy('customer_id').count().orderBy('count',ascending=False).show(10,False)"
   ]
  },
  {
   "cell_type": "code",
   "execution_count": 17,
   "metadata": {},
   "outputs": [
    {
     "name": "stdout",
     "output_type": "stream",
     "text": [
      "+-----------+-----+\n",
      "|customer_id|count|\n",
      "+-----------+-----+\n",
      "|38922240   |1    |\n",
      "|23469878   |1    |\n",
      "|12072379   |1    |\n",
      "|34946095   |1    |\n",
      "|23475578   |1    |\n",
      "|36554584   |1    |\n",
      "|38722834   |1    |\n",
      "|52165591   |1    |\n",
      "|13492514   |1    |\n",
      "|22735091   |1    |\n",
      "+-----------+-----+\n",
      "only showing top 10 rows\n",
      "\n"
     ]
    }
   ],
   "source": [
    "#The users who have have rated the least number of books\n",
    "amazon_df.groupBy('customer_id').count().orderBy('count',ascending=True).show(10,False)"
   ]
  },
  {
   "cell_type": "code",
   "execution_count": 18,
   "metadata": {},
   "outputs": [],
   "source": [
    "#creating string indexer to convert the book title column values into numerical values\n",
    "stringIndexer = StringIndexer(inputCol=\"product_title\", outputCol=\"product_title_new\")"
   ]
  },
  {
   "cell_type": "code",
   "execution_count": 19,
   "metadata": {},
   "outputs": [],
   "source": [
    "model = stringIndexer.fit(amazon_df)"
   ]
  },
  {
   "cell_type": "code",
   "execution_count": 20,
   "metadata": {},
   "outputs": [],
   "source": [
    "#creating new dataframe with transformed values\n",
    "indexed = model.transform(amazon_df)"
   ]
  },
  {
   "cell_type": "code",
   "execution_count": 21,
   "metadata": {},
   "outputs": [
    {
     "name": "stdout",
     "output_type": "stream",
     "text": [
      "+-----------+--------------------+-----------+-----------------+\n",
      "|customer_id|       product_title|star_rating|product_title_new|\n",
      "+-----------+--------------------+-----------+-----------------+\n",
      "|   12076615|Sisterhood of the...|          4|            320.0|\n",
      "|   12703090|The Bad Girl's Gu...|          3|          12482.0|\n",
      "|   12257412|Eisenhorn (A Warh...|          4|           5662.0|\n",
      "|   50732546|Colby Conspiracy ...|          5|          28123.0|\n",
      "|   51964897|The Psychology of...|          4|          33816.0|\n",
      "|   31048862|The Catcher in th...|          4|             81.0|\n",
      "|   53000124|Bait and Switch: ...|          4|             35.0|\n",
      "|   29732693|Opening Combinati...|          4|          53576.0|\n",
      "|   48541186|A Little History ...|          5|          25683.0|\n",
      "|   15280864|Hour Game (King &...|          4|            170.0|\n",
      "+-----------+--------------------+-----------+-----------------+\n",
      "only showing top 10 rows\n",
      "\n"
     ]
    }
   ],
   "source": [
    "#validate the numerical title values\n",
    "indexed.show(10)"
   ]
  },
  {
   "cell_type": "code",
   "execution_count": 22,
   "metadata": {},
   "outputs": [
    {
     "name": "stdout",
     "output_type": "stream",
     "text": [
      "+-----------------+-----+\n",
      "|product_title_new|count|\n",
      "+-----------------+-----+\n",
      "|0.0              |630  |\n",
      "|1.0              |531  |\n",
      "|2.0              |376  |\n",
      "|3.0              |366  |\n",
      "|4.0              |224  |\n",
      "|5.0              |186  |\n",
      "|6.0              |146  |\n",
      "|7.0              |136  |\n",
      "|8.0              |134  |\n",
      "|9.0              |107  |\n",
      "+-----------------+-----+\n",
      "only showing top 10 rows\n",
      "\n"
     ]
    }
   ],
   "source": [
    "#number of times each numerical book title has been rated \n",
    "indexed.groupBy('product_title_new').count().orderBy('count',ascending=False).show(10,False)"
   ]
  },
  {
   "cell_type": "code",
   "execution_count": 23,
   "metadata": {},
   "outputs": [],
   "source": [
    "#split the data into training and test datatset\n",
    "train,test=indexed.randomSplit([0.75,0.25])"
   ]
  },
  {
   "cell_type": "code",
   "execution_count": 24,
   "metadata": {},
   "outputs": [
    {
     "data": {
      "text/plain": [
       "75049"
      ]
     },
     "execution_count": 24,
     "metadata": {},
     "output_type": "execute_result"
    }
   ],
   "source": [
    "#count number of records in train set\n",
    "train.count()"
   ]
  },
  {
   "cell_type": "code",
   "execution_count": 25,
   "metadata": {},
   "outputs": [
    {
     "data": {
      "text/plain": [
       "24941"
      ]
     },
     "execution_count": 25,
     "metadata": {},
     "output_type": "execute_result"
    }
   ],
   "source": [
    "#count number of records in test set\n",
    "test.count()"
   ]
  },
  {
   "cell_type": "code",
   "execution_count": 26,
   "metadata": {},
   "outputs": [],
   "source": [
    "#Training the recommender model using train datatset\n",
    "rec=ALS(maxIter=10,regParam=0.01,userCol='customer_id',itemCol='product_title_new',ratingCol='star_rating',nonnegative=True,coldStartStrategy=\"drop\")"
   ]
  },
  {
   "cell_type": "code",
   "execution_count": 27,
   "metadata": {},
   "outputs": [
    {
     "data": {
      "text/plain": [
       "ALS_941a1eecde08"
      ]
     },
     "execution_count": 27,
     "metadata": {},
     "output_type": "execute_result"
    }
   ],
   "source": [
    "rec"
   ]
  },
  {
   "cell_type": "code",
   "execution_count": 28,
   "metadata": {},
   "outputs": [],
   "source": [
    "#fit the model on train set\n",
    "rec_model=rec.fit(train)"
   ]
  },
  {
   "cell_type": "code",
   "execution_count": 29,
   "metadata": {},
   "outputs": [],
   "source": [
    "#making predictions on test set \n",
    "predicted_ratings=rec_model.transform(test)"
   ]
  },
  {
   "cell_type": "code",
   "execution_count": 30,
   "metadata": {},
   "outputs": [
    {
     "name": "stdout",
     "output_type": "stream",
     "text": [
      "root\n",
      " |-- customer_id: integer (nullable = true)\n",
      " |-- product_title: string (nullable = true)\n",
      " |-- star_rating: integer (nullable = true)\n",
      " |-- product_title_new: double (nullable = false)\n",
      " |-- prediction: float (nullable = false)\n",
      "\n"
     ]
    }
   ],
   "source": [
    "#columns in predicted ratings dataframe\n",
    "predicted_ratings.printSchema()"
   ]
  },
  {
   "cell_type": "code",
   "execution_count": 31,
   "metadata": {},
   "outputs": [
    {
     "name": "stdout",
     "output_type": "stream",
     "text": [
      "+-----------+--------------------+-----------+-----------------+----------+\n",
      "|customer_id|       product_title|star_rating|product_title_new|prediction|\n",
      "+-----------+--------------------+-----------+-----------------+----------+\n",
      "|   20379359|Inside the Mind o...|          2|            148.0| 6.6003437|\n",
      "|   36642996|Inside the Mind o...|          5|            148.0|  4.549569|\n",
      "|   17782992|Inside the Mind o...|          2|            148.0| 1.0612826|\n",
      "|   53090372|Urban Shaman (The...|          5|            463.0| 2.0490804|\n",
      "|   51071403|Urban Shaman (The...|          5|            463.0| 3.4183264|\n",
      "|   17733929|Urban Shaman (The...|          3|            463.0| 2.1701374|\n",
      "|   49918786|The Angel Experim...|          4|            471.0| 3.7440085|\n",
      "|   12230962|       American Gods|          5|            496.0|  3.289894|\n",
      "|   53096155|                 Dog|          3|            833.0|    1.9719|\n",
      "|   40865923|The Story of the ...|          5|           1238.0| 3.3464904|\n",
      "+-----------+--------------------+-----------+-----------------+----------+\n",
      "only showing top 10 rows\n",
      "\n"
     ]
    }
   ],
   "source": [
    "#predicted vs actual ratings for test set \n",
    "predicted_ratings.show(10)"
   ]
  },
  {
   "cell_type": "code",
   "execution_count": 32,
   "metadata": {},
   "outputs": [],
   "source": [
    "Pred_Ratings=predicted_ratings.withColumn('err',(predicted_ratings['prediction'] - predicted_ratings['star_rating']))"
   ]
  },
  {
   "cell_type": "code",
   "execution_count": 33,
   "metadata": {},
   "outputs": [
    {
     "name": "stdout",
     "output_type": "stream",
     "text": [
      "+-----------+--------------------+-----------+-----------------+----------+-----------+\n",
      "|customer_id|       product_title|star_rating|product_title_new|prediction|        err|\n",
      "+-----------+--------------------+-----------+-----------------+----------+-----------+\n",
      "|   20379359|Inside the Mind o...|          2|            148.0| 6.6003437|  4.6003437|\n",
      "|   36642996|Inside the Mind o...|          5|            148.0|  4.549569|-0.45043087|\n",
      "|   17782992|Inside the Mind o...|          2|            148.0| 1.0612826|-0.93871737|\n",
      "|   53090372|Urban Shaman (The...|          5|            463.0| 2.0490804| -2.9509196|\n",
      "|   51071403|Urban Shaman (The...|          5|            463.0| 3.4183264| -1.5816736|\n",
      "|   17733929|Urban Shaman (The...|          3|            463.0| 2.1701374| -0.8298626|\n",
      "|   49918786|The Angel Experim...|          4|            471.0| 3.7440085|-0.25599146|\n",
      "|   12230962|       American Gods|          5|            496.0|  3.289894| -1.7101059|\n",
      "|   53096155|                 Dog|          3|            833.0|    1.9719|    -1.0281|\n",
      "|   40865923|The Story of the ...|          5|           1238.0| 3.3464904| -1.6535096|\n",
      "+-----------+--------------------+-----------+-----------------+----------+-----------+\n",
      "only showing top 10 rows\n",
      "\n"
     ]
    }
   ],
   "source": [
    "Pred_Ratings.show(10)"
   ]
  },
  {
   "cell_type": "code",
   "execution_count": 34,
   "metadata": {},
   "outputs": [
    {
     "name": "stdout",
     "output_type": "stream",
     "text": [
      "+-----------+-----+\n",
      "|star_rating|count|\n",
      "+-----------+-----+\n",
      "|          1| 7357|\n",
      "|          2| 4749|\n",
      "|          3| 8333|\n",
      "|          4|19978|\n",
      "|          5|59573|\n",
      "+-----------+-----+\n",
      "\n"
     ]
    }
   ],
   "source": [
    "amazon_df.groupBy('star_rating').count().orderBy('star_rating',ascending=True).show()"
   ]
  },
  {
   "cell_type": "code",
   "execution_count": 35,
   "metadata": {},
   "outputs": [
    {
     "name": "stdout",
     "output_type": "stream",
     "text": [
      "+-----------+-------------------+\n",
      "|star_rating|           avg(err)|\n",
      "+-----------+-------------------+\n",
      "|          1| 0.8114635746575257|\n",
      "|          2| 0.1755152353780524|\n",
      "|          3|-0.7190319649153004|\n",
      "|          4|-1.4136076759634995|\n",
      "|          5| -2.313555982923999|\n",
      "+-----------+-------------------+\n",
      "\n"
     ]
    }
   ],
   "source": [
    "Pred_Ratings.groupBy('star_rating').agg({'err':'mean'}).orderBy('star_rating',ascending=True).show()"
   ]
  },
  {
   "cell_type": "code",
   "execution_count": 36,
   "metadata": {},
   "outputs": [],
   "source": [
    "#create Regressor evaluator object for measuring accuracy\n",
    "evaluator=RegressionEvaluator(metricName='rmse',predictionCol='prediction',labelCol='star_rating')"
   ]
  },
  {
   "cell_type": "code",
   "execution_count": 37,
   "metadata": {},
   "outputs": [],
   "source": [
    "#apply the RE on predictions dataframe to calculate RMSE\n",
    "rmse=evaluator.evaluate(predicted_ratings)"
   ]
  },
  {
   "cell_type": "code",
   "execution_count": 38,
   "metadata": {},
   "outputs": [
    {
     "name": "stdout",
     "output_type": "stream",
     "text": [
      "2.827761137983841\n"
     ]
    }
   ],
   "source": [
    "#print RMSE error\n",
    "print(rmse)"
   ]
  },
  {
   "cell_type": "code",
   "execution_count": 39,
   "metadata": {},
   "outputs": [],
   "source": [
    "#create dataset of all distinct books \n",
    "unique_books=indexed.select('product_title_new').distinct()"
   ]
  },
  {
   "cell_type": "code",
   "execution_count": 40,
   "metadata": {},
   "outputs": [
    {
     "data": {
      "text/plain": [
       "62329"
      ]
     },
     "execution_count": 40,
     "metadata": {},
     "output_type": "execute_result"
    }
   ],
   "source": [
    "#number of unique books\n",
    "unique_books.count()"
   ]
  },
  {
   "cell_type": "code",
   "execution_count": 41,
   "metadata": {},
   "outputs": [],
   "source": [
    "a = unique_books.alias('a')"
   ]
  },
  {
   "cell_type": "code",
   "execution_count": 42,
   "metadata": {},
   "outputs": [],
   "source": [
    "user_id=50122160"
   ]
  },
  {
   "cell_type": "code",
   "execution_count": 43,
   "metadata": {},
   "outputs": [],
   "source": [
    "#creating another dataframe which contains already read book by active user \n",
    "read_books=indexed.filter(indexed['customer_id'] == user_id).select('product_title_new').distinct()"
   ]
  },
  {
   "cell_type": "code",
   "execution_count": 44,
   "metadata": {},
   "outputs": [
    {
     "data": {
      "text/plain": [
       "636"
      ]
     },
     "execution_count": 44,
     "metadata": {},
     "output_type": "execute_result"
    }
   ],
   "source": [
    "#number of book already rated \n",
    "read_books.count()"
   ]
  },
  {
   "cell_type": "code",
   "execution_count": 45,
   "metadata": {},
   "outputs": [],
   "source": [
    "#assigning alias name 'b' to read books\n",
    "b=read_books.alias('b')"
   ]
  },
  {
   "cell_type": "code",
   "execution_count": 46,
   "metadata": {},
   "outputs": [],
   "source": [
    "#joining both tables on left join \n",
    "total_books = a.join(b, a.product_title_new == b.product_title_new,how='left')"
   ]
  },
  {
   "cell_type": "code",
   "execution_count": 47,
   "metadata": {},
   "outputs": [
    {
     "name": "stdout",
     "output_type": "stream",
     "text": [
      "+-----------------+-----------------+\n",
      "|product_title_new|product_title_new|\n",
      "+-----------------+-----------------+\n",
      "|299.0            |null             |\n",
      "|305.0            |null             |\n",
      "|496.0            |null             |\n",
      "|558.0            |null             |\n",
      "|596.0            |null             |\n",
      "|692.0            |null             |\n",
      "|769.0            |null             |\n",
      "|934.0            |null             |\n",
      "|1051.0           |null             |\n",
      "|1761.0           |null             |\n",
      "+-----------------+-----------------+\n",
      "only showing top 10 rows\n",
      "\n"
     ]
    }
   ],
   "source": [
    "total_books.show(10,False)"
   ]
  },
  {
   "cell_type": "code",
   "execution_count": 48,
   "metadata": {},
   "outputs": [],
   "source": [
    "#selecting books which active user is yet to rate or watch\n",
    "remaining_books=total_books.where(col(\"b.product_title_new\").isNull()).select(a.product_title_new).distinct()"
   ]
  },
  {
   "cell_type": "code",
   "execution_count": 49,
   "metadata": {},
   "outputs": [
    {
     "data": {
      "text/plain": [
       "61693"
      ]
     },
     "execution_count": 49,
     "metadata": {},
     "output_type": "execute_result"
    }
   ],
   "source": [
    "remaining_books.count()"
   ]
  },
  {
   "cell_type": "code",
   "execution_count": 50,
   "metadata": {},
   "outputs": [],
   "source": [
    "#adding new column of user_Id of active useer to remaining books  \n",
    "remaining_books=remaining_books.withColumn(\"customer_id\",lit(int(user_id)))"
   ]
  },
  {
   "cell_type": "code",
   "execution_count": 51,
   "metadata": {},
   "outputs": [
    {
     "name": "stdout",
     "output_type": "stream",
     "text": [
      "+-----------------+-----------+\n",
      "|product_title_new|customer_id|\n",
      "+-----------------+-----------+\n",
      "|299.0            |50122160   |\n",
      "|305.0            |50122160   |\n",
      "|496.0            |50122160   |\n",
      "|558.0            |50122160   |\n",
      "|596.0            |50122160   |\n",
      "|692.0            |50122160   |\n",
      "|769.0            |50122160   |\n",
      "|934.0            |50122160   |\n",
      "|1051.0           |50122160   |\n",
      "|1761.0           |50122160   |\n",
      "+-----------------+-----------+\n",
      "only showing top 10 rows\n",
      "\n"
     ]
    }
   ],
   "source": [
    "remaining_books.show(10,False)"
   ]
  },
  {
   "cell_type": "code",
   "execution_count": 52,
   "metadata": {},
   "outputs": [],
   "source": [
    "#making recommendations using ALS recommender model and selecting only top 'n' books\n",
    "recommendations=rec_model.transform(remaining_books).orderBy('prediction',ascending=False)"
   ]
  },
  {
   "cell_type": "code",
   "execution_count": 53,
   "metadata": {},
   "outputs": [
    {
     "name": "stdout",
     "output_type": "stream",
     "text": [
      "+-----------------+-----------+----------+\n",
      "|product_title_new|customer_id|prediction|\n",
      "+-----------------+-----------+----------+\n",
      "|45123.0          |50122160   |8.16131   |\n",
      "|4832.0           |50122160   |8.056374  |\n",
      "|4334.0           |50122160   |8.003     |\n",
      "|10716.0          |50122160   |7.9968615 |\n",
      "|3178.0           |50122160   |7.967109  |\n",
      "+-----------------+-----------+----------+\n",
      "only showing top 5 rows\n",
      "\n"
     ]
    }
   ],
   "source": [
    "recommendations.show(5,False)"
   ]
  },
  {
   "cell_type": "code",
   "execution_count": 54,
   "metadata": {},
   "outputs": [],
   "source": [
    "product_title = IndexToString(inputCol=\"product_title_new\", outputCol=\"product_title\",labels=model.labels)\n",
    "\n",
    "final_recommendations=product_title.transform(recommendations)"
   ]
  },
  {
   "cell_type": "code",
   "execution_count": 55,
   "metadata": {},
   "outputs": [
    {
     "name": "stdout",
     "output_type": "stream",
     "text": [
      "+-----------------+-----------+----------+---------------------------------------------------------------------------------------+\n",
      "|product_title_new|customer_id|prediction|product_title                                                                          |\n",
      "+-----------------+-----------+----------+---------------------------------------------------------------------------------------+\n",
      "|45123.0          |50122160   |8.16131   |Statistical Analysis of Financial Data in S-Plus (Springer Texts in Statistics)        |\n",
      "|4832.0           |50122160   |8.056374  |Essential ActionScript 2.0: Object-Oriented Development with ActionScript 2.0          |\n",
      "|4334.0           |50122160   |8.003     |Work as a Heroic Journey:Using the Workplace to Evolve Your Character and Consciousness|\n",
      "|10716.0          |50122160   |7.9968615 |The Letter of Marque (Vol. Book 12)  (Aubrey/Maturin Novels)                           |\n",
      "|3178.0           |50122160   |7.967109  |The Bible for Men: Vol. 1 Women Friends and Male Power                                 |\n",
      "|30476.0          |50122160   |7.946969  |Have Tux, Will Travel: Bob Hope's Own Story                                            |\n",
      "|60441.0          |50122160   |7.9073977 |Everywoman's Travel Journal                                                            |\n",
      "|58964.0          |50122160   |7.8095903 |The Footbag Book                                                                       |\n",
      "|56562.0          |50122160   |7.622978  |Avengers/Thunderbolts Vol. 2: Best Intentions                                          |\n",
      "|15151.0          |50122160   |7.605562  |The Proud Liberal: A Novel                                                             |\n",
      "+-----------------+-----------+----------+---------------------------------------------------------------------------------------+\n",
      "only showing top 10 rows\n",
      "\n"
     ]
    }
   ],
   "source": [
    "final_recommendations.show(10,False)"
   ]
  },
  {
   "cell_type": "code",
   "execution_count": 56,
   "metadata": {},
   "outputs": [],
   "source": [
    "#create function to recommend top 'n' books to any particular user\n",
    "def topRecomendedBooks(customer_id,n):\n",
    "    \"\"\"\n",
    "    This function returns the top 'n' books that user has not read yet but might like \n",
    "    \n",
    "    \"\"\"\n",
    "    #assigning alias name 'a' to unique books \n",
    "    a = unique_books.alias('a')\n",
    "    \n",
    "    #creating another dataframe which contains already read books by active user \n",
    "    read_books=indexed.filter(indexed['customer_id'] == user_id).select('product_title_new')\n",
    "    \n",
    "    #assigning alias name 'b' to read books \n",
    "    b = read_books.alias('b')\n",
    "    \n",
    "    #joining both tables on left join \n",
    "    totalBooks = a.join(b, a['product_title_new'] == b['product_title_new'],how='left')\n",
    "\n",
    "    \n",
    "    #selecting bookd which active user is yet to rate or watch\n",
    "    remaining_books=totalBooks.where(col(\"b.product_title_new\").isNull()).select(a.product_title_new).distinct()\n",
    "    \n",
    "    \n",
    "    #adding new column of user_Id of active useer to remaining books df \n",
    "    remaining_books=remaining_books.withColumn(\"customer_id\",lit(int(user_id)))\n",
    "    \n",
    "    \n",
    "    #making recommendations using ALS recommender model and selecting only top 'n' books\n",
    "    recommendations=rec_model.transform(remaining_books).orderBy('prediction',ascending=False).limit(n)\n",
    "    \n",
    "    \n",
    "    #adding columns of books titles in recommendations\n",
    "    book_title = IndexToString(inputCol=\"product_title_new\", outputCol=\"product_title\",labels=model.labels)\n",
    "    final_recommendations=book_title.transform(recommendations)\n",
    "    \n",
    "    #return the recommendations to active user\n",
    "    return final_recommendations.show(n,False)"
   ]
  },
  {
   "cell_type": "code",
   "execution_count": 57,
   "metadata": {},
   "outputs": [
    {
     "name": "stdout",
     "output_type": "stream",
     "text": [
      "+-----------------+-----------+----------+---------------------------------------------------------------------------------------+\n",
      "|product_title_new|customer_id|prediction|product_title                                                                          |\n",
      "+-----------------+-----------+----------+---------------------------------------------------------------------------------------+\n",
      "|45123.0          |50122160   |8.16131   |Statistical Analysis of Financial Data in S-Plus (Springer Texts in Statistics)        |\n",
      "|4832.0           |50122160   |8.056374  |Essential ActionScript 2.0: Object-Oriented Development with ActionScript 2.0          |\n",
      "|4334.0           |50122160   |8.003     |Work as a Heroic Journey:Using the Workplace to Evolve Your Character and Consciousness|\n",
      "|10716.0          |50122160   |7.9968615 |The Letter of Marque (Vol. Book 12)  (Aubrey/Maturin Novels)                           |\n",
      "|3178.0           |50122160   |7.967109  |The Bible for Men: Vol. 1 Women Friends and Male Power                                 |\n",
      "|30476.0          |50122160   |7.946969  |Have Tux, Will Travel: Bob Hope's Own Story                                            |\n",
      "|60441.0          |50122160   |7.9073977 |Everywoman's Travel Journal                                                            |\n",
      "|58964.0          |50122160   |7.8095903 |The Footbag Book                                                                       |\n",
      "|56562.0          |50122160   |7.622978  |Avengers/Thunderbolts Vol. 2: Best Intentions                                          |\n",
      "|15151.0          |50122160   |7.605562  |The Proud Liberal: A Novel                                                             |\n",
      "+-----------------+-----------+----------+---------------------------------------------------------------------------------------+\n",
      "\n"
     ]
    }
   ],
   "source": [
    "topRecomendedBooks(24821538,10) "
   ]
  },
  {
   "cell_type": "code",
   "execution_count": null,
   "metadata": {},
   "outputs": [],
   "source": [
    "topRecomendedBooks(38491967,10)"
   ]
  },
  {
   "cell_type": "code",
   "execution_count": null,
   "metadata": {},
   "outputs": [],
   "source": [
    "sc.stop()"
   ]
  },
  {
   "cell_type": "code",
   "execution_count": null,
   "metadata": {},
   "outputs": [],
   "source": []
  }
 ],
 "metadata": {
  "kernelspec": {
   "display_name": "Python 3",
   "language": "python",
   "name": "python3"
  },
  "language_info": {
   "codemirror_mode": {
    "name": "ipython",
    "version": 3
   },
   "file_extension": ".py",
   "mimetype": "text/x-python",
   "name": "python",
   "nbconvert_exporter": "python",
   "pygments_lexer": "ipython3",
   "version": "3.7.3"
  }
 },
 "nbformat": 4,
 "nbformat_minor": 2
}
